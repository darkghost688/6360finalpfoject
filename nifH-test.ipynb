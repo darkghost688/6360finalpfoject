{
 "cells": [
  {
   "cell_type": "markdown",
   "metadata": {},
   "source": [
    "# 目的与意义\n",
    "\n",
    "## 背景\n",
    "\n",
    "nifH 基因是研究生物固氮功能的重要标记基因。通过分析该基因的序列特征（如 GC 含量、序列长度等），可以评估其功能活跃性或丰度。这对于理解海洋生态系统中的氮循环具有重要意义。\n",
    "\n",
    "## 研究目的\n",
    "\n",
    "1. 探索 nifH 基因的关键特征与功能活跃性之间的关系。\n",
    "2. 使用机器学习模型（线性回归、随机森林、神经网络），预测未知样本的固氮功能。\n",
    "3. 比较不同模型的性能，评估其在生物信息学分析中的适用性。\n",
    "\n",
    "## 意义\n",
    "\n",
    "通过引入模型方法，可以：\n",
    "\n",
    "1. 提高固氮基因功能预测的准确性，扩展其应用场景。\n",
    "2. 捕捉复杂的特征关系，为未来基因功能研究提供参考。\n",
    "3. 构建一个通用的分析框架，为其他基因功能分析提供方法论支持。\n"
   ]
  },
  {
   "cell_type": "code",
   "execution_count": null,
   "metadata": {},
   "outputs": [
    {
     "name": "stdout",
     "output_type": "stream",
     "text": [
      "Collecting seaborn\n",
      "  Using cached seaborn-0.13.2-py3-none-any.whl.metadata (5.4 kB)\n",
      "Requirement already satisfied: numpy!=1.24.0,>=1.20 in /Users/darkghost/anaconda3/envs/comp_bio_lecture_13/lib/python3.10/site-packages (from seaborn) (2.0.1)\n",
      "Requirement already satisfied: pandas>=1.2 in /Users/darkghost/anaconda3/envs/comp_bio_lecture_13/lib/python3.10/site-packages (from seaborn) (2.2.3)\n",
      "Requirement already satisfied: matplotlib!=3.6.1,>=3.4 in /Users/darkghost/anaconda3/envs/comp_bio_lecture_13/lib/python3.10/site-packages (from seaborn) (3.9.3)\n",
      "Requirement already satisfied: contourpy>=1.0.1 in /Users/darkghost/anaconda3/envs/comp_bio_lecture_13/lib/python3.10/site-packages (from matplotlib!=3.6.1,>=3.4->seaborn) (1.3.1)\n",
      "Requirement already satisfied: cycler>=0.10 in /Users/darkghost/anaconda3/envs/comp_bio_lecture_13/lib/python3.10/site-packages (from matplotlib!=3.6.1,>=3.4->seaborn) (0.12.1)\n",
      "Requirement already satisfied: fonttools>=4.22.0 in /Users/darkghost/anaconda3/envs/comp_bio_lecture_13/lib/python3.10/site-packages (from matplotlib!=3.6.1,>=3.4->seaborn) (4.55.0)\n",
      "Requirement already satisfied: kiwisolver>=1.3.1 in /Users/darkghost/anaconda3/envs/comp_bio_lecture_13/lib/python3.10/site-packages (from matplotlib!=3.6.1,>=3.4->seaborn) (1.4.7)\n",
      "Requirement already satisfied: packaging>=20.0 in /Users/darkghost/anaconda3/envs/comp_bio_lecture_13/lib/python3.10/site-packages (from matplotlib!=3.6.1,>=3.4->seaborn) (24.2)\n",
      "Requirement already satisfied: pillow>=8 in /Users/darkghost/anaconda3/envs/comp_bio_lecture_13/lib/python3.10/site-packages (from matplotlib!=3.6.1,>=3.4->seaborn) (11.0.0)\n",
      "Requirement already satisfied: pyparsing>=2.3.1 in /Users/darkghost/anaconda3/envs/comp_bio_lecture_13/lib/python3.10/site-packages (from matplotlib!=3.6.1,>=3.4->seaborn) (3.2.0)\n",
      "Requirement already satisfied: python-dateutil>=2.7 in /Users/darkghost/anaconda3/envs/comp_bio_lecture_13/lib/python3.10/site-packages (from matplotlib!=3.6.1,>=3.4->seaborn) (2.9.0.post0)\n",
      "Requirement already satisfied: pytz>=2020.1 in /Users/darkghost/anaconda3/envs/comp_bio_lecture_13/lib/python3.10/site-packages (from pandas>=1.2->seaborn) (2024.1)\n",
      "Requirement already satisfied: tzdata>=2022.7 in /Users/darkghost/anaconda3/envs/comp_bio_lecture_13/lib/python3.10/site-packages (from pandas>=1.2->seaborn) (2023.3)\n",
      "Requirement already satisfied: six>=1.5 in /Users/darkghost/anaconda3/envs/comp_bio_lecture_13/lib/python3.10/site-packages (from python-dateutil>=2.7->matplotlib!=3.6.1,>=3.4->seaborn) (1.16.0)\n",
      "Using cached seaborn-0.13.2-py3-none-any.whl (294 kB)\n",
      "Installing collected packages: seaborn\n",
      "Successfully installed seaborn-0.13.2\n",
      "Note: you may need to restart the kernel to use updated packages.\n"
     ]
    }
   ],
   "source": [
    "pip install seaborn"
   ]
  },
  {
   "cell_type": "code",
   "execution_count": null,
   "metadata": {},
   "outputs": [],
   "source": [
    "from Bio import SeqIO\n",
    "import pandas as pd\n",
    "import matplotlib.pyplot as plt\n",
    "import seaborn as sns\n",
    "import pandas as pd\n",
    "import numpy as np\n",
    "import os\n",
    "from Bio import SeqIO\n",
    "from sklearn.model_selection import train_test_split\n",
    "from sklearn.linear_model import LinearRegression\n",
    "from sklearn.ensemble import RandomForestRegressor\n",
    "from sklearn.metrics import mean_squared_error, r2_score\n",
    "\n",
    "# 加载 FASTA 文件\n",
    "file_path = \"./nifH_datasets/ncbi_dataset/data/gene.fna\"  # 替换为您的文件路径\n",
    "sequences = []\n",
    "\n",
    "# 解析 FASTA 文件\n",
    "for record in SeqIO.parse(file_path, \"fasta\"):\n",
    "    seq_id = record.id\n",
    "    sequence = str(record.seq)\n",
    "    sequences.append({\"ID\": seq_id, \"Sequence\": sequence})\n",
    "# 转换为 DataFrame\n",
    "df = pd.DataFrame(sequences)\n",
    "\n",
    "# 提取特征\n",
    "def extract_features(sequence):\n",
    "    length = len(sequence)\n",
    "    gc_content = (sequence.count(\"G\") + sequence.count(\"C\")) / length\n",
    "    return length, gc_content\n",
    "\n",
    "df[\"Length\"], df[\"GC_Content\"] = zip(*df[\"Sequence\"].apply(extract_features))\n",
    "\n",
    "# 检查数据\n",
    "df.head()\n"
   ]
  },
  {
   "cell_type": "markdown",
   "metadata": {},
   "source": [
    "<!-- 是一个典型的 nifH 基因序列长度范围，GC 含量为 0.646，符合固氮基因常见的高 GC 含量特性。 -->\n"
   ]
  },
  {
   "cell_type": "code",
   "execution_count": null,
   "metadata": {},
   "outputs": [
    {
     "name": "stderr",
     "output_type": "stream",
     "text": [
      "/var/folders/tx/xqtj99597b1g3xwmxgm3lrsh0000gn/T/ipykernel_9130/3401981112.py:6: FutureWarning: \n",
      "\n",
      "Passing `palette` without assigning `hue` is deprecated and will be removed in v0.14.0. Assign the `x` variable to `hue` and set `legend=False` for the same effect.\n",
      "\n",
      "  sns.barplot(x=features, y=values, palette=\"viridis\")\n"
     ]
    },
    {
     "data": {
      "image/png": "[encoded data removed]",
      "text/plain": [
       "<Figure size 800x400 with 1 Axes>"
      ]
     },
     "metadata": {},
     "output_type": "display_data"
    }
   ],
   "source": [
    "# 可视化单样本的特征（柱状图展示）\n",
    "features = [\"Length\", \"GC_Content\"]\n",
    "values = [df[\"Length\"].iloc[0], df[\"GC_Content\"].iloc[0]]\n",
    "\n",
    "plt.figure(figsize=(8, 4))\n",
    "sns.barplot(x=features, y=values, palette=\"viridis\")\n",
    "plt.title(\"Key Features of Single nifH Sample\")\n",
    "plt.ylabel(\"Value\")\n",
    "plt.show()"
   ]
  },
  {
   "cell_type": "markdown",
   "metadata": {},
   "source": [
    "## ID：基因序列的唯一标识符。\n",
    "\n",
    "## Sequence：基因的碱基序列（A、T、C、G）。\n",
    "\n",
    "## Length：基因的长度，单位为碱基对。\n",
    "\n",
    "## GC_Content：GC 含量，是 (G + C) / 总长度。\n"
   ]
  },
  {
   "cell_type": "code",
   "execution_count": 57,
   "metadata": {},
   "outputs": [
    {
     "name": "stdout",
     "output_type": "stream",
     "text": [
      "                                ID  \\\n",
      "0  NZ_VISK01000015.1:262164-263045   \n",
      "\n",
      "                                            Sequence  Length  GC_Content  \\\n",
      "0  ATGTCTTTGCGCCAGATTGCGTTCTACGGTAAGGGCGGTATCGGCA...     882    0.646259   \n",
      "\n",
      "   AT_Content   A_Ratio   T_Ratio   C_Ratio   G_Ratio  \n",
      "0    0.353741  0.207483  0.146259  0.335601  0.310658  \n"
     ]
    }
   ],
   "source": [
    "# 特征提取函数\n",
    "def extract_features(sequence):\n",
    "    length = len(sequence)\n",
    "    gc_content = (sequence.count(\"G\") + sequence.count(\"C\")) / length\n",
    "    at_content = (sequence.count(\"A\") + sequence.count(\"T\")) / length\n",
    "    a_ratio = sequence.count(\"A\") / length\n",
    "    t_ratio = sequence.count(\"T\") / length\n",
    "    c_ratio = sequence.count(\"C\") / length\n",
    "    g_ratio = sequence.count(\"G\") / length\n",
    "    return length, gc_content, at_content, a_ratio, t_ratio, c_ratio, g_ratio\n",
    "\n",
    "\n",
    "# 提取特征\n",
    "df[\"Length\"], df[\"GC_Content\"], df[\"AT_Content\"], df[\"A_Ratio\"], df[\"T_Ratio\"], df[\"C_Ratio\"], df[\"G_Ratio\"] = zip(\n",
    "    *df[\"Sequence\"].apply(extract_features)\n",
    ")\n",
    "\n",
    "# 打印特征\n",
    "print(df.head())\n"
   ]
  },
  {
   "cell_type": "code",
   "execution_count": 58,
   "metadata": {},
   "outputs": [
    {
     "name": "stdout",
     "output_type": "stream",
     "text": [
      "   Length  GC_Content  AT_Content   A_Ratio   T_Ratio   C_Ratio   G_Ratio\n",
      "0     882    0.646259    0.353741  0.207483  0.146259  0.335601  0.310658\n"
     ]
    }
   ],
   "source": [
    "print(df[[\"Length\", \"GC_Content\", \"AT_Content\", \"A_Ratio\", \"T_Ratio\", \"C_Ratio\", \"G_Ratio\"]].head())\n"
   ]
  },
  {
   "cell_type": "code",
   "execution_count": 59,
   "metadata": {},
   "outputs": [
    {
     "name": "stdout",
     "output_type": "stream",
     "text": [
      "       Length  GC_Content  AT_Content   A_Ratio   T_Ratio   C_Ratio   G_Ratio\n",
      "count     1.0    1.000000    1.000000  1.000000  1.000000  1.000000  1.000000\n",
      "mean    882.0    0.646259    0.353741  0.207483  0.146259  0.335601  0.310658\n",
      "std       NaN         NaN         NaN       NaN       NaN       NaN       NaN\n",
      "min     882.0    0.646259    0.353741  0.207483  0.146259  0.335601  0.310658\n",
      "25%     882.0    0.646259    0.353741  0.207483  0.146259  0.335601  0.310658\n",
      "50%     882.0    0.646259    0.353741  0.207483  0.146259  0.335601  0.310658\n",
      "75%     882.0    0.646259    0.353741  0.207483  0.146259  0.335601  0.310658\n",
      "max     882.0    0.646259    0.353741  0.207483  0.146259  0.335601  0.310658\n"
     ]
    }
   ],
   "source": [
    "print(df[numeric_columns].describe())"
   ]
  },
  {
   "cell_type": "code",
   "execution_count": 60,
   "metadata": {},
   "outputs": [],
   "source": [
    "np.random.seed(42)\n",
    "df[\"Target\"] = [0.8]  # 假设基因功能活跃度\n"
   ]
  },
  {
   "cell_type": "code",
   "execution_count": 65,
   "metadata": {},
   "outputs": [],
   "source": [
    "# 单样本直接作为训练集和测试集（因为没有多样本）\n",
    "X_train = df[[\"Length\", \"GC_Content\", \"AT_Content\", \"A_Ratio\", \"T_Ratio\", \"C_Ratio\", \"G_Ratio\"]]\n",
    "y_train = df[\"Target\"]\n",
    "\n",
    "# 将训练集和测试集统一为 X_train, y_train\n",
    "X_test = X_train\n",
    "y_test = y_train\n",
    "\n",
    "# # # 特征提取生成的大写列名\n",
    "# df[\"Length\"], df[\"GC_Content\"], df[\"AT_Content\"], df[\"A_Ratio\"], df[\"T_Ratio\"], df[\"C_Ratio\"], df[\"G_Ratio\"] = zip(\n",
    "#     *df[\"Sequence\"].apply(extract_features)\n",
    "# )\n",
    "\n",
    "# # 数据分割部分\n",
    "# X = df[[\"Length\", \"GC_Content\", \"AT_Content\", \"A_Ratio\", \"T_Ratio\", \"C_Ratio\", \"G_Ratio\"]]\n",
    "# y = df[\"Target\"]\n",
    "# X_train, X_test, y_train, y_test = train_test_split(X, y, test_size=0.2, random_state=42)\n"
   ]
  },
  {
   "cell_type": "code",
   "execution_count": 32,
   "metadata": {},
   "outputs": [
    {
     "name": "stdout",
     "output_type": "stream",
     "text": [
      "count    1.000000\n",
      "mean     0.646259\n",
      "std           NaN\n",
      "min      0.646259\n",
      "25%      0.646259\n",
      "50%      0.646259\n",
      "75%      0.646259\n",
      "max      0.646259\n",
      "Name: GC_Content, dtype: float64\n",
      "0    0.646259\n",
      "Name: GC_Content, dtype: float64\n"
     ]
    }
   ],
   "source": [
    "print(df[\"GC_Content\"].describe())\n",
    "print(df[\"GC_Content\"].head())"
   ]
  },
  {
   "cell_type": "code",
   "execution_count": null,
   "metadata": {},
   "outputs": [],
   "source": []
  }
 ],
 "metadata": {
  "kernelspec": {
   "display_name": "comp_bio_lecture_13",
   "language": "python",
   "name": "python3"
  },
  "language_info": {
   "codemirror_mode": {
    "name": "ipython",
    "version": 3
   },
   "file_extension": ".py",
   "mimetype": "text/x-python",
   "name": "python",
   "nbconvert_exporter": "python",
   "pygments_lexer": "ipython3",
   "version": "3.10.13"
  }
 },
 "nbformat": 4,
 "nbformat_minor": 2
}
